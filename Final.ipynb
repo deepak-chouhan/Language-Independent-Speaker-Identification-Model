{
 "cells": [
  {
   "cell_type": "markdown",
   "id": "f5796e5a",
   "metadata": {},
   "source": [
    "# Final"
   ]
  },
  {
   "cell_type": "code",
   "execution_count": 1,
   "id": "e88f26e2",
   "metadata": {},
   "outputs": [],
   "source": [
    "import os\n",
    "import pandas as pd\n",
    "import numpy as np\n",
    "import librosa\n",
    "from sklearn import preprocessing\n",
    "import tensorflow as tf\n",
    "import python_speech_features as mfcc\n",
    "\n",
    "from sklearn.preprocessing import LabelEncoder\n",
    "from sklearn.preprocessing import StandardScaler\n",
    "\n",
    "import joblib"
   ]
  },
  {
   "cell_type": "code",
   "execution_count": 2,
   "id": "e92ce771",
   "metadata": {},
   "outputs": [],
   "source": [
    "def extract_feature(y, sr):\n",
    "    mfccs_features = librosa.feature.mfcc(y=y, sr=sr, n_mfcc=13)\n",
    "    mfccs_scaled_features = np.mean(mfccs_features.T,axis=0)\n",
    "    return mfccs_scaled_features"
   ]
  },
  {
   "cell_type": "code",
   "execution_count": 3,
   "id": "0b130c2c",
   "metadata": {},
   "outputs": [],
   "source": [
    "model = tf.keras.models.load_model(\"./model/model_3.h5\")"
   ]
  },
  {
   "cell_type": "code",
   "execution_count": 4,
   "id": "66df89ba",
   "metadata": {},
   "outputs": [],
   "source": [
    "def predict_speaker(filename):\n",
    "    \n",
    "    # audio features\n",
    "    audio, sr = librosa.load(filename, mono=True)\n",
    "    audio, index = librosa.effects.trim(audio)\n",
    "    \n",
    "    # audio data\n",
    "    mfcc = extract_feature(audio, sr)\n",
    "    chroma_stft = librosa.feature.chroma_stft(y=audio, sr=sr)\n",
    "    rmse = librosa.feature.rms(y=audio)\n",
    "    spec_cent = librosa.feature.spectral_centroid(y=audio, sr=sr)\n",
    "    spec_bw = librosa.feature.spectral_bandwidth(y=audio, sr=sr)\n",
    "    rolloff = librosa.feature.spectral_rolloff(y=audio, sr=sr)\n",
    "    zcr = librosa.feature.zero_crossing_rate(audio)\n",
    "\n",
    "    features = [np.mean(chroma_stft), np.mean(rmse), np.mean(spec_cent), np.mean(spec_bw), np.mean(rolloff), np.mean(zcr)]\n",
    "    for e in mfcc:\n",
    "        features.append(np.mean(e))\n",
    "        \n",
    "    features = np.array(features)\n",
    "    features = features.reshape(1, features.shape[0])\n",
    "    # header for dataframe\n",
    "    df_columns = [\"chroma_stft\", \"rmse\", \"spectral_centroid\", \"spectral_bandwidth\", \"rolloff\", \"zero_crossing_rate\"]\n",
    "    for i in range(13):\n",
    "        df_columns.append(f\"mfcc_{i}\")\n",
    "\n",
    "    df = pd.DataFrame(features)\n",
    "    df.columns = df_columns\n",
    "    \n",
    "    # scale the features\n",
    "    scaler = joblib.load(\"./preprocessing_helper/standard_scaler.joblib\")\n",
    "    X = scaler.transform(df)\n",
    "    \n",
    "    # predict\n",
    "    y_p = model.predict(X)\n",
    "    y_p = np.argmax(y_p, axis=1)\n",
    "    \n",
    "    # decode the labels\n",
    "    label_encoder = joblib.load(\"./preprocessing_helper/label_encoder.joblib\")\n",
    "    return label_encoder.inverse_transform(y_p)"
   ]
  },
  {
   "cell_type": "markdown",
   "id": "ffdae4e2",
   "metadata": {},
   "source": [
    "## Test on random data"
   ]
  },
  {
   "cell_type": "code",
   "execution_count": 5,
   "id": "77eec74a",
   "metadata": {},
   "outputs": [
    {
     "data": {
      "text/plain": [
       "array([2193263], dtype=int64)"
      ]
     },
     "execution_count": 5,
     "metadata": {},
     "output_type": "execute_result"
    }
   ],
   "source": [
    "filename = f\"./dataset/test/2193263_Awaaaz.wav\"\n",
    "predict_speaker(filename)"
   ]
  },
  {
   "cell_type": "code",
   "execution_count": 6,
   "id": "6a789f52",
   "metadata": {
    "scrolled": true
   },
   "outputs": [
    {
     "name": "stdout",
     "output_type": "stream",
     "text": [
      "Actual roll_no: 2193119 test:  ['aur', 'vai.wav']\n",
      "Predicted roll_no: 2193119\n",
      "\n",
      "Actual roll_no: 2193119 test:  ['awaaz.wav']\n",
      "Predicted roll_no: 2193230\n",
      "\n",
      "Actual roll_no: 2193119 test:  ['hello', 'this', 'is', 'me.wav']\n",
      "Predicted roll_no: 2193119\n",
      "\n",
      "Actual roll_no: 2193119 test:  ['in', 'middle.wav']\n",
      "Predicted roll_no: 2196003\n",
      "\n",
      "Actual roll_no: 2193119 test:  ['i', 'got.wav']\n",
      "Predicted roll_no: 2196003\n",
      "\n",
      "Actual roll_no: 2193119 test:  ['k.wav']\n",
      "Predicted roll_no: 2193119\n",
      "\n",
      "Actual roll_no: 2193119 test:  ['kaise', 'ho.wav']\n",
      "Predicted roll_no: 2193119\n",
      "\n",
      "Actual roll_no: 2193119 test:  ['mic', 'testing.wav']\n",
      "Predicted roll_no: 2193119\n",
      "\n",
      "Actual roll_no: 2193274 test:  ['1.wav']\n",
      "Predicted roll_no: 2193274\n",
      "\n",
      "Actual roll_no: 2193274 test:  ['2.wav']\n",
      "Predicted roll_no: 2193274\n",
      "\n",
      "Actual roll_no: 2193274 test:  ['3.wav']\n",
      "Predicted roll_no: 2193057\n",
      "\n",
      "Actual roll_no: 2193274 test:  ['4.wav']\n",
      "Predicted roll_no: 2193274\n",
      "\n"
     ]
    }
   ],
   "source": [
    "test_files = \"./dataset/test_random/\"\n",
    "\n",
    "for file in os.listdir(test_files):\n",
    "    file_path = test_files + file\n",
    "    print(\"Actual roll_no:\", file.split(\"_\")[0], \"test: \", file.split(\"_\")[1:])\n",
    "    roll = predict_speaker(file_path)\n",
    "    print(\"Predicted roll_no:\", roll[0])\n",
    "    print()"
   ]
  },
  {
   "cell_type": "code",
   "execution_count": 17,
   "id": "15e969fc",
   "metadata": {},
   "outputs": [
    {
     "name": "stderr",
     "output_type": "stream",
     "text": [
      "D:\\MP4\\System\\Model\\env\\lib\\site-packages\\librosa\\util\\decorators.py:88: UserWarning: PySoundFile failed. Trying audioread instead.\n",
      "  return f(*args, **kwargs)\n"
     ]
    },
    {
     "data": {
      "text/plain": [
       "array([2193057], dtype=int64)"
      ]
     },
     "execution_count": 17,
     "metadata": {},
     "output_type": "execute_result"
    }
   ],
   "source": [
    "filename = f\"./new_file.wav\"\n",
    "predict_speaker(filename)"
   ]
  },
  {
   "cell_type": "code",
   "execution_count": null,
   "id": "6a9cb809",
   "metadata": {},
   "outputs": [],
   "source": []
  }
 ],
 "metadata": {
  "kernelspec": {
   "display_name": "Python 3 (ipykernel)",
   "language": "python",
   "name": "python3"
  },
  "language_info": {
   "codemirror_mode": {
    "name": "ipython",
    "version": 3
   },
   "file_extension": ".py",
   "mimetype": "text/x-python",
   "name": "python",
   "nbconvert_exporter": "python",
   "pygments_lexer": "ipython3",
   "version": "3.9.7"
  }
 },
 "nbformat": 4,
 "nbformat_minor": 5
}
